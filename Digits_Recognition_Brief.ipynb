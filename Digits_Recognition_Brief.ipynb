{
 "cells": [
  {
   "cell_type": "markdown",
   "metadata": {},
   "source": [
    "# Reconnaissance des Digits basée sur les enregistrements Audios "
   ]
  },
  {
   "cell_type": "markdown",
   "metadata": {},
   "source": [
    "### Importer les bibliothéques necessaires "
   ]
  },
  {
   "cell_type": "markdown",
   "metadata": {},
   "source": [
    "On importe les bibliothèques nécéssaires à l'exercice."
   ]
  },
  {
   "cell_type": "code",
   "execution_count": 29,
   "metadata": {},
   "outputs": [],
   "source": [
    "import numpy as np\n",
    "from Tools.tools import rec\n",
    "from Tools.tools import collection\n",
    "import os\n",
    "import matplotlib.pyplot as plt\n",
    "import seaborn as sb\n",
    "sb.set_style(\"whitegrid\", {'axes.grid' : False})\n",
    "sb.set(font_scale = 2)\n",
    "import pandas as pd\n",
    "from sklearn.model_selection import train_test_split\n",
    "from sklearn.preprocessing import StandardScaler\n",
    "from sklearn.tree import DecisionTreeClassifier\n",
    "from sklearn.ensemble import RandomForestClassifier\n",
    "from sklearn.ensemble import GradientBoostingClassifier\n",
    "from sklearn.svm import SVC\n",
    "from sklearn.neural_network import MLPClassifier \n",
    "import warnings\n",
    "warnings.filterwarnings('ignore')"
   ]
  },
  {
   "cell_type": "markdown",
   "metadata": {},
   "source": [
    "### Collection "
   ]
  },
  {
   "cell_type": "markdown",
   "metadata": {},
   "source": [
    "La fontion 'collection()' sert à enregistrer le dataset. "
   ]
  },
  {
   "cell_type": "code",
   "execution_count": 30,
   "metadata": {
    "scrolled": false
   },
   "outputs": [],
   "source": [
    "#collection()"
   ]
  },
  {
   "cell_type": "markdown",
   "metadata": {},
   "source": [
    "#### 1. Importez votre DataSet"
   ]
  },
  {
   "cell_type": "code",
   "execution_count": 31,
   "metadata": {},
   "outputs": [],
   "source": [
    "mydata = pd.read_csv('./DataSet/'+os.listdir('./DataSet/')[0])"
   ]
  },
  {
   "cell_type": "markdown",
   "metadata": {},
   "source": [
    "##### Print"
   ]
  },
  {
   "cell_type": "code",
   "execution_count": 32,
   "metadata": {},
   "outputs": [
    {
     "data": {
      "text/html": [
       "<div>\n",
       "<style scoped>\n",
       "    .dataframe tbody tr th:only-of-type {\n",
       "        vertical-align: middle;\n",
       "    }\n",
       "\n",
       "    .dataframe tbody tr th {\n",
       "        vertical-align: top;\n",
       "    }\n",
       "\n",
       "    .dataframe thead th {\n",
       "        text-align: right;\n",
       "    }\n",
       "</style>\n",
       "<table border=\"1\" class=\"dataframe\">\n",
       "  <thead>\n",
       "    <tr style=\"text-align: right;\">\n",
       "      <th></th>\n",
       "      <th>Fe1</th>\n",
       "      <th>Fe2</th>\n",
       "      <th>Fe3</th>\n",
       "      <th>Fe4</th>\n",
       "      <th>Fe5</th>\n",
       "      <th>Fe6</th>\n",
       "      <th>Fe7</th>\n",
       "      <th>Fe8</th>\n",
       "      <th>Fe9</th>\n",
       "      <th>Fe10</th>\n",
       "      <th>Fe11</th>\n",
       "      <th>Fe12</th>\n",
       "      <th>Target</th>\n",
       "    </tr>\n",
       "  </thead>\n",
       "  <tbody>\n",
       "    <tr>\n",
       "      <th>0</th>\n",
       "      <td>12.415838</td>\n",
       "      <td>-5.999262</td>\n",
       "      <td>-2.797673</td>\n",
       "      <td>-5.514809</td>\n",
       "      <td>-15.810390</td>\n",
       "      <td>-14.559854</td>\n",
       "      <td>-19.882763</td>\n",
       "      <td>-3.637177</td>\n",
       "      <td>-1.307711</td>\n",
       "      <td>10.414146</td>\n",
       "      <td>-3.787594</td>\n",
       "      <td>-8.394803</td>\n",
       "      <td>0.0</td>\n",
       "    </tr>\n",
       "    <tr>\n",
       "      <th>1</th>\n",
       "      <td>11.640196</td>\n",
       "      <td>-9.006161</td>\n",
       "      <td>-3.858566</td>\n",
       "      <td>-8.126331</td>\n",
       "      <td>-17.623772</td>\n",
       "      <td>-16.155487</td>\n",
       "      <td>-19.092542</td>\n",
       "      <td>1.227401</td>\n",
       "      <td>5.155053</td>\n",
       "      <td>13.675569</td>\n",
       "      <td>-3.387412</td>\n",
       "      <td>-6.611336</td>\n",
       "      <td>1.0</td>\n",
       "    </tr>\n",
       "    <tr>\n",
       "      <th>2</th>\n",
       "      <td>11.835205</td>\n",
       "      <td>-7.964956</td>\n",
       "      <td>-2.799497</td>\n",
       "      <td>-6.148031</td>\n",
       "      <td>-13.818409</td>\n",
       "      <td>-11.379076</td>\n",
       "      <td>-17.393981</td>\n",
       "      <td>-1.948125</td>\n",
       "      <td>1.082748</td>\n",
       "      <td>9.216904</td>\n",
       "      <td>-6.465000</td>\n",
       "      <td>-9.618258</td>\n",
       "      <td>2.0</td>\n",
       "    </tr>\n",
       "    <tr>\n",
       "      <th>3</th>\n",
       "      <td>12.144253</td>\n",
       "      <td>-8.313670</td>\n",
       "      <td>-1.848456</td>\n",
       "      <td>-5.874728</td>\n",
       "      <td>-17.682939</td>\n",
       "      <td>-16.444877</td>\n",
       "      <td>-21.372110</td>\n",
       "      <td>-0.495679</td>\n",
       "      <td>3.095585</td>\n",
       "      <td>14.332539</td>\n",
       "      <td>-1.340018</td>\n",
       "      <td>-5.915885</td>\n",
       "      <td>3.0</td>\n",
       "    </tr>\n",
       "    <tr>\n",
       "      <th>4</th>\n",
       "      <td>11.934267</td>\n",
       "      <td>-9.407987</td>\n",
       "      <td>-5.308188</td>\n",
       "      <td>-8.898862</td>\n",
       "      <td>-17.139231</td>\n",
       "      <td>-12.867308</td>\n",
       "      <td>-19.183345</td>\n",
       "      <td>-0.429049</td>\n",
       "      <td>2.718711</td>\n",
       "      <td>14.358603</td>\n",
       "      <td>-0.774700</td>\n",
       "      <td>-5.684941</td>\n",
       "      <td>4.0</td>\n",
       "    </tr>\n",
       "    <tr>\n",
       "      <th>...</th>\n",
       "      <td>...</td>\n",
       "      <td>...</td>\n",
       "      <td>...</td>\n",
       "      <td>...</td>\n",
       "      <td>...</td>\n",
       "      <td>...</td>\n",
       "      <td>...</td>\n",
       "      <td>...</td>\n",
       "      <td>...</td>\n",
       "      <td>...</td>\n",
       "      <td>...</td>\n",
       "      <td>...</td>\n",
       "      <td>...</td>\n",
       "    </tr>\n",
       "    <tr>\n",
       "      <th>325</th>\n",
       "      <td>12.607325</td>\n",
       "      <td>-8.948624</td>\n",
       "      <td>-6.101906</td>\n",
       "      <td>-7.201585</td>\n",
       "      <td>-16.600043</td>\n",
       "      <td>-10.350188</td>\n",
       "      <td>-16.445341</td>\n",
       "      <td>-0.357002</td>\n",
       "      <td>1.501681</td>\n",
       "      <td>15.708107</td>\n",
       "      <td>1.767674</td>\n",
       "      <td>-5.225165</td>\n",
       "      <td>5.0</td>\n",
       "    </tr>\n",
       "    <tr>\n",
       "      <th>326</th>\n",
       "      <td>15.047757</td>\n",
       "      <td>-16.085862</td>\n",
       "      <td>-8.479102</td>\n",
       "      <td>0.925191</td>\n",
       "      <td>-16.706271</td>\n",
       "      <td>-9.765278</td>\n",
       "      <td>-15.038191</td>\n",
       "      <td>1.658406</td>\n",
       "      <td>-1.180630</td>\n",
       "      <td>15.571194</td>\n",
       "      <td>1.749007</td>\n",
       "      <td>-5.811766</td>\n",
       "      <td>6.0</td>\n",
       "    </tr>\n",
       "    <tr>\n",
       "      <th>327</th>\n",
       "      <td>12.343218</td>\n",
       "      <td>-10.665727</td>\n",
       "      <td>-7.693310</td>\n",
       "      <td>-7.322216</td>\n",
       "      <td>-16.507409</td>\n",
       "      <td>-10.035509</td>\n",
       "      <td>-16.767961</td>\n",
       "      <td>-2.463141</td>\n",
       "      <td>-2.196307</td>\n",
       "      <td>15.938146</td>\n",
       "      <td>0.490981</td>\n",
       "      <td>-5.765771</td>\n",
       "      <td>7.0</td>\n",
       "    </tr>\n",
       "    <tr>\n",
       "      <th>328</th>\n",
       "      <td>13.775563</td>\n",
       "      <td>-7.992276</td>\n",
       "      <td>-3.318546</td>\n",
       "      <td>-5.342028</td>\n",
       "      <td>-13.886054</td>\n",
       "      <td>-9.174829</td>\n",
       "      <td>-14.557717</td>\n",
       "      <td>-0.326272</td>\n",
       "      <td>0.121111</td>\n",
       "      <td>12.487456</td>\n",
       "      <td>-3.845689</td>\n",
       "      <td>-8.154156</td>\n",
       "      <td>8.0</td>\n",
       "    </tr>\n",
       "    <tr>\n",
       "      <th>329</th>\n",
       "      <td>13.133290</td>\n",
       "      <td>-11.387948</td>\n",
       "      <td>-5.427858</td>\n",
       "      <td>-11.883447</td>\n",
       "      <td>-12.327752</td>\n",
       "      <td>-4.635636</td>\n",
       "      <td>-21.324071</td>\n",
       "      <td>-2.128878</td>\n",
       "      <td>-3.965668</td>\n",
       "      <td>16.845442</td>\n",
       "      <td>-0.636568</td>\n",
       "      <td>-4.177722</td>\n",
       "      <td>9.0</td>\n",
       "    </tr>\n",
       "  </tbody>\n",
       "</table>\n",
       "<p>330 rows × 13 columns</p>\n",
       "</div>"
      ],
      "text/plain": [
       "           Fe1        Fe2       Fe3        Fe4        Fe5        Fe6  \\\n",
       "0    12.415838  -5.999262 -2.797673  -5.514809 -15.810390 -14.559854   \n",
       "1    11.640196  -9.006161 -3.858566  -8.126331 -17.623772 -16.155487   \n",
       "2    11.835205  -7.964956 -2.799497  -6.148031 -13.818409 -11.379076   \n",
       "3    12.144253  -8.313670 -1.848456  -5.874728 -17.682939 -16.444877   \n",
       "4    11.934267  -9.407987 -5.308188  -8.898862 -17.139231 -12.867308   \n",
       "..         ...        ...       ...        ...        ...        ...   \n",
       "325  12.607325  -8.948624 -6.101906  -7.201585 -16.600043 -10.350188   \n",
       "326  15.047757 -16.085862 -8.479102   0.925191 -16.706271  -9.765278   \n",
       "327  12.343218 -10.665727 -7.693310  -7.322216 -16.507409 -10.035509   \n",
       "328  13.775563  -7.992276 -3.318546  -5.342028 -13.886054  -9.174829   \n",
       "329  13.133290 -11.387948 -5.427858 -11.883447 -12.327752  -4.635636   \n",
       "\n",
       "           Fe7       Fe8       Fe9       Fe10      Fe11      Fe12  Target  \n",
       "0   -19.882763 -3.637177 -1.307711  10.414146 -3.787594 -8.394803     0.0  \n",
       "1   -19.092542  1.227401  5.155053  13.675569 -3.387412 -6.611336     1.0  \n",
       "2   -17.393981 -1.948125  1.082748   9.216904 -6.465000 -9.618258     2.0  \n",
       "3   -21.372110 -0.495679  3.095585  14.332539 -1.340018 -5.915885     3.0  \n",
       "4   -19.183345 -0.429049  2.718711  14.358603 -0.774700 -5.684941     4.0  \n",
       "..         ...       ...       ...        ...       ...       ...     ...  \n",
       "325 -16.445341 -0.357002  1.501681  15.708107  1.767674 -5.225165     5.0  \n",
       "326 -15.038191  1.658406 -1.180630  15.571194  1.749007 -5.811766     6.0  \n",
       "327 -16.767961 -2.463141 -2.196307  15.938146  0.490981 -5.765771     7.0  \n",
       "328 -14.557717 -0.326272  0.121111  12.487456 -3.845689 -8.154156     8.0  \n",
       "329 -21.324071 -2.128878 -3.965668  16.845442 -0.636568 -4.177722     9.0  \n",
       "\n",
       "[330 rows x 13 columns]"
      ]
     },
     "execution_count": 32,
     "metadata": {},
     "output_type": "execute_result"
    }
   ],
   "source": [
    "mydata"
   ]
  },
  {
   "cell_type": "markdown",
   "metadata": {},
   "source": [
    "#### 2. Checker les variables quantitatives/qualitatives et les valeurs manquantes "
   ]
  },
  {
   "cell_type": "code",
   "execution_count": 33,
   "metadata": {},
   "outputs": [
    {
     "name": "stdout",
     "output_type": "stream",
     "text": [
      "<class 'pandas.core.frame.DataFrame'>\n",
      "RangeIndex: 330 entries, 0 to 329\n",
      "Data columns (total 13 columns):\n",
      " #   Column  Non-Null Count  Dtype  \n",
      "---  ------  --------------  -----  \n",
      " 0   Fe1     330 non-null    float64\n",
      " 1   Fe2     330 non-null    float64\n",
      " 2   Fe3     330 non-null    float64\n",
      " 3   Fe4     330 non-null    float64\n",
      " 4   Fe5     330 non-null    float64\n",
      " 5   Fe6     330 non-null    float64\n",
      " 6   Fe7     330 non-null    float64\n",
      " 7   Fe8     330 non-null    float64\n",
      " 8   Fe9     330 non-null    float64\n",
      " 9   Fe10    330 non-null    float64\n",
      " 10  Fe11    330 non-null    float64\n",
      " 11  Fe12    330 non-null    float64\n",
      " 12  Target  330 non-null    float64\n",
      "dtypes: float64(13)\n",
      "memory usage: 33.6 KB\n"
     ]
    }
   ],
   "source": [
    "mydata.info()"
   ]
  },
  {
   "cell_type": "markdown",
   "metadata": {},
   "source": [
    "#### 3. Visualiser les targets"
   ]
  },
  {
   "cell_type": "code",
   "execution_count": 35,
   "metadata": {},
   "outputs": [
    {
     "data": {
      "text/plain": [
       "(array([33.,  0., 33.,  0., 33.,  0., 33.,  0., 33.,  0.,  0., 33.,  0.,\n",
       "        33.,  0., 33.,  0., 33.,  0., 33.]),\n",
       " array([0.  , 0.45, 0.9 , 1.35, 1.8 , 2.25, 2.7 , 3.15, 3.6 , 4.05, 4.5 ,\n",
       "        4.95, 5.4 , 5.85, 6.3 , 6.75, 7.2 , 7.65, 8.1 , 8.55, 9.  ]),\n",
       " <a list of 20 Patch objects>)"
      ]
     },
     "execution_count": 35,
     "metadata": {},
     "output_type": "execute_result"
    },
    {
     "data": {
      "image/png": "[encoded data removed]",
      "text/plain": [
       "<Figure size 432x288 with 1 Axes>"
      ]
     },
     "metadata": {},
     "output_type": "display_data"
    }
   ],
   "source": [
    "import matplotlib.pyplot as plt\n",
    "hmag = mydata['Target']\n",
    "plt.hist(hmag, 20, range=[0, 9], facecolor='blue', align='mid')"
   ]
  },
  {
   "cell_type": "markdown",
   "metadata": {},
   "source": [
    "On affiche les résultats sous la forme d'un nuage de points. "
   ]
  },
  {
   "cell_type": "code",
   "execution_count": 36,
   "metadata": {},
   "outputs": [
    {
     "data": {
      "image/png": "[encoded data removed]",
      "text/plain": [
       "<Figure size 1080x648 with 1 Axes>"
      ]
     },
     "metadata": {},
     "output_type": "display_data"
    }
   ],
   "source": [
    "import seaborn as sns \n",
    "import matplotlib.pyplot as plt \n",
    "from sklearn.decomposition import PCA\n",
    "\n",
    "pca = PCA(n_components=2)\n",
    "df2 = pd.DataFrame(pca.fit_transform(mydata.iloc[:, :-1]))\n",
    "\n",
    "df2[\"Target\"] = mydata[\"Target\"]\n",
    "df2.columns = [\"P1\",\"P2\",\"Target\"]\n",
    "\n",
    "\n",
    "plt.figure(1,figsize=(15,9))\n",
    "plt.clf()\n",
    "sns.scatterplot(x=\"P1\",y=\"P2\",hue=\"Target\",data=df2, palette = \"Paired\")\n",
    "\n",
    "\n",
    "\n",
    "#plt.plot(x,y,\"+\")\n",
    "\n",
    "plt.xlabel('P1')\n",
    "plt.ylabel('P2')\n",
    "plt.show()"
   ]
  },
  {
   "cell_type": "markdown",
   "metadata": {},
   "source": [
    "#### 4. Notre variable target (Y) est 'gender', Récupérer X et y à partir du jeu de données "
   ]
  },
  {
   "cell_type": "code",
   "execution_count": 37,
   "metadata": {},
   "outputs": [
    {
     "data": {
      "text/plain": [
       "(330, 12)"
      ]
     },
     "execution_count": 37,
     "metadata": {},
     "output_type": "execute_result"
    }
   ],
   "source": [
    "y = mydata['Target']\n",
    "X = mydata.iloc[:,:-1]\n",
    "X.shape"
   ]
  },
  {
   "cell_type": "markdown",
   "metadata": {},
   "source": [
    "#### 5. Diviser la DataSet en donneés d'apprentissage et de test (20% pour le test)"
   ]
  },
  {
   "cell_type": "code",
   "execution_count": 38,
   "metadata": {},
   "outputs": [],
   "source": [
    "X_train, X_test, y_train, y_test = train_test_split(X, y, test_size=0.2, random_state=0)"
   ]
  },
  {
   "cell_type": "markdown",
   "metadata": {},
   "source": [
    "#### 6. Appliquer une normalisation centrée-réduite aux données en utilisant \"StandardScaler\""
   ]
  },
  {
   "cell_type": "code",
   "execution_count": 82,
   "metadata": {},
   "outputs": [],
   "source": [
    "scaler = StandardScaler().fit(X_train)"
   ]
  },
  {
   "cell_type": "code",
   "execution_count": 40,
   "metadata": {
    "scrolled": true
   },
   "outputs": [],
   "source": [
    "#X_train_scaled = scaler.transform(X_train)"
   ]
  },
  {
   "cell_type": "code",
   "execution_count": 41,
   "metadata": {},
   "outputs": [],
   "source": [
    "#X_test_scaled = scaler.transform(X_test)"
   ]
  },
  {
   "cell_type": "markdown",
   "metadata": {},
   "source": [
    "#### 7. Développez votre meilleur modèle de classification"
   ]
  },
  {
   "cell_type": "code",
   "execution_count": 58,
   "metadata": {},
   "outputs": [],
   "source": [
    "from sklearn import neighbors, metrics\n",
    "from sklearn.pipeline import Pipeline\n",
    "from sklearn.neighbors import KNeighborsClassifier\n",
    "from sklearn.svm import SVC\n",
    "from xgboost import XGBClassifier\n",
    "from sklearn.tree import DecisionTreeClassifier\n",
    "from sklearn.ensemble import RandomForestClassifier\n",
    "from sklearn.model_selection import GridSearchCV"
   ]
  },
  {
   "cell_type": "code",
   "execution_count": 59,
   "metadata": {},
   "outputs": [],
   "source": [
    "#Création des pipeline\n",
    "pipe_SVC = Pipeline([('scale', StandardScaler()), ('model', SVC(random_state=0))])\n",
    "\n",
    "pipe_DecisionTreeClassifier = Pipeline([('scale', StandardScaler()), ('model', DecisionTreeClassifier(random_state=0))])\n",
    "\n",
    "pipe_randomforest = Pipeline([('scale', StandardScaler()), ('model', RandomForestClassifier(random_state=0))])\n",
    "\n",
    "pipe_XGBoost = Pipeline([('scale', StandardScaler()), ('model', XGBClassifier(random_state=0))])\n",
    "\n",
    "pipe_KNN = Pipeline([('scale', StandardScaler()), ('KNN', KNeighborsClassifier())])\n",
    "\n",
    "pipe_MLP = Pipeline([('scale', StandardScaler()), ('MLP', MLPClassifier(random_state=0))])"
   ]
  },
  {
   "cell_type": "code",
   "execution_count": 68,
   "metadata": {},
   "outputs": [],
   "source": [
    "#GridSearch\n",
    "\n",
    "grid_SVC_params = [{'model__kernel': ['linear', 'rbf'],\n",
    "                    'model__C':[1,10]}]\n",
    "\n",
    "grid_XG_params = [{'model__learning_rate':[0.05,0.1,0.15],\n",
    "                 'model__max_depth':[1,2,3,4],\n",
    "                  'model__eval_metric' : ['mlogloss']}]\n",
    "        \n",
    "grid_forest_params = [{'model__n_estimators':[30,40,50],\n",
    "                      'model__max_depth':[None, 1],\n",
    "                      'model__min_samples_split':[4,5,6],\n",
    "                      'model__min_samples_leaf':[1,2,3,4]}]\n",
    "\n",
    "grid_KNN_params = [{'KNN__n_neighbors': [1, 2, 3, 4, 5, 6], \n",
    "                    'KNN__weights': ['uniform', 'distance'], \n",
    "                    'KNN__algorithm': ['auto'],\n",
    "                    'KNN__metric': ['euclidean', 'manhattan', 'minkowski'], \n",
    "                    'KNN__p' : [2, 3, 4, 5, 6]}]\n",
    "\n",
    "grid_tree_params = [{'model__criterion':['gini','entropy'],\n",
    "                    'model__max_depth':[4,5,6,7,8,9,10,11,12,15,20,30,40,50,70,90,120,150]}]\n",
    "\n",
    "grid_MLP_params = [{'MLP__hidden_layer_sizes' : [(50,), (100,), (150,)], \n",
    "                    'MLP__activation' : ['identity', 'logistic', 'tanh', 'relu'], \n",
    "                    'MLP__random_state' : [0, 1, 2, 3, 4]}]"
   ]
  },
  {
   "cell_type": "code",
   "execution_count": 69,
   "metadata": {},
   "outputs": [],
   "source": [
    "from sklearn.model_selection import GridSearchCV"
   ]
  },
  {
   "cell_type": "code",
   "execution_count": 70,
   "metadata": {},
   "outputs": [],
   "source": [
    "#On applique le GridSearch aux méthodes désignées plus haut\n",
    "grid_search_SVC = GridSearchCV(estimator=pipe_SVC,\n",
    "                              param_grid=grid_SVC_params,\n",
    "                              scoring='accuracy',\n",
    "                              cv=2)\n",
    "grid_search_XG = GridSearchCV(estimator=pipe_XGBoost,\n",
    "                              param_grid=grid_XG_params,\n",
    "                              scoring='accuracy',\n",
    "                              cv=2)\n",
    "grid_search_rf = GridSearchCV(estimator=pipe_randomforest,\n",
    "                              param_grid=grid_forest_params,\n",
    "                              scoring='accuracy',\n",
    "                              cv=2)\n",
    "grid_search_dt = GridSearchCV(estimator=pipe_DecisionTreeClassifier,\n",
    "                              param_grid=grid_tree_params,\n",
    "                              scoring='accuracy',\n",
    "                              cv=2)\n",
    "grid_search_KNN = GridSearchCV(estimator=pipe_KNN,\n",
    "                              param_grid=grid_KNN_params,\n",
    "                              scoring='accuracy',\n",
    "                              cv=2)\n",
    "grid_search_MLP = GridSearchCV(estimator=pipe_MLP,\n",
    "                              param_grid=grid_MLP_params,\n",
    "                              scoring='accuracy',\n",
    "                              cv=2)"
   ]
  },
  {
   "cell_type": "markdown",
   "metadata": {},
   "source": [
    "#### Calcul résultats"
   ]
  },
  {
   "cell_type": "markdown",
   "metadata": {},
   "source": [
    "Random Forest "
   ]
  },
  {
   "cell_type": "code",
   "execution_count": 71,
   "metadata": {},
   "outputs": [
    {
     "name": "stdout",
     "output_type": "stream",
     "text": [
      "{'model__max_depth': None, 'model__min_samples_leaf': 1, 'model__min_samples_split': 5, 'model__n_estimators': 50}\n"
     ]
    },
    {
     "data": {
      "text/plain": [
       "1.0"
      ]
     },
     "execution_count": 71,
     "metadata": {},
     "output_type": "execute_result"
    }
   ],
   "source": [
    "RF = grid_search_rf.fit(X_train,y_train)\n",
    "print(RF.best_params_)\n",
    "RF.score(X_train,y_train)"
   ]
  },
  {
   "cell_type": "markdown",
   "metadata": {},
   "source": [
    "Support Vector Classification"
   ]
  },
  {
   "cell_type": "code",
   "execution_count": 72,
   "metadata": {},
   "outputs": [
    {
     "name": "stdout",
     "output_type": "stream",
     "text": [
      "{'model__C': 1, 'model__kernel': 'linear'}\n"
     ]
    },
    {
     "data": {
      "text/plain": [
       "0.9810606060606061"
      ]
     },
     "execution_count": 72,
     "metadata": {},
     "output_type": "execute_result"
    }
   ],
   "source": [
    "SVC = grid_search_SVC.fit(X_train,y_train)\n",
    "print (SVC.best_params_)\n",
    "SVC.score(X_train,y_train)"
   ]
  },
  {
   "cell_type": "markdown",
   "metadata": {},
   "source": [
    "Decision Tree Classifier"
   ]
  },
  {
   "cell_type": "code",
   "execution_count": 73,
   "metadata": {},
   "outputs": [
    {
     "name": "stdout",
     "output_type": "stream",
     "text": [
      "{'model__criterion': 'gini', 'model__max_depth': 9}\n"
     ]
    },
    {
     "data": {
      "text/plain": [
       "0.9810606060606061"
      ]
     },
     "execution_count": 73,
     "metadata": {},
     "output_type": "execute_result"
    }
   ],
   "source": [
    "DT = grid_search_dt.fit(X_train,y_train)\n",
    "print(DT.best_params_)\n",
    "DT.score(X_train,y_train)"
   ]
  },
  {
   "cell_type": "markdown",
   "metadata": {},
   "source": [
    "XGBooster"
   ]
  },
  {
   "cell_type": "code",
   "execution_count": 74,
   "metadata": {},
   "outputs": [
    {
     "name": "stdout",
     "output_type": "stream",
     "text": [
      "{'model__eval_metric': 'mlogloss', 'model__learning_rate': 0.1, 'model__max_depth': 1}\n"
     ]
    },
    {
     "data": {
      "text/plain": [
       "0.9696969696969697"
      ]
     },
     "execution_count": 74,
     "metadata": {},
     "output_type": "execute_result"
    }
   ],
   "source": [
    "XG = grid_search_XG.fit(X_train,y_train)\n",
    "print(XG.best_params_)\n",
    "XG.score(X_train,y_train)"
   ]
  },
  {
   "cell_type": "markdown",
   "metadata": {},
   "source": [
    "KNN"
   ]
  },
  {
   "cell_type": "code",
   "execution_count": 76,
   "metadata": {},
   "outputs": [
    {
     "name": "stdout",
     "output_type": "stream",
     "text": [
      "{'KNN__algorithm': 'auto', 'KNN__metric': 'euclidean', 'KNN__n_neighbors': 1, 'KNN__p': 2, 'KNN__weights': 'uniform'}\n"
     ]
    },
    {
     "data": {
      "text/plain": [
       "1.0"
      ]
     },
     "execution_count": 76,
     "metadata": {},
     "output_type": "execute_result"
    }
   ],
   "source": [
    "KNN = grid_search_KNN.fit(X_train,y_train)\n",
    "print(KNN.best_params_)\n",
    "KNN.score(X_train,y_train)"
   ]
  },
  {
   "cell_type": "markdown",
   "metadata": {},
   "source": [
    "MLP"
   ]
  },
  {
   "cell_type": "code",
   "execution_count": 87,
   "metadata": {},
   "outputs": [
    {
     "name": "stdout",
     "output_type": "stream",
     "text": [
      "{'MLP__activation': 'tanh', 'MLP__hidden_layer_sizes': (100,), 'MLP__random_state': 1}\n"
     ]
    },
    {
     "data": {
      "text/plain": [
       "0.9772727272727273"
      ]
     },
     "execution_count": 87,
     "metadata": {},
     "output_type": "execute_result"
    }
   ],
   "source": [
    "MLP = grid_search_MLP.fit(X_train,y_train)\n",
    "print (MLP.best_params_)\n",
    "MLP.score(X_train,y_train)"
   ]
  },
  {
   "cell_type": "markdown",
   "metadata": {},
   "source": [
    "# Application en Temps Réel"
   ]
  },
  {
   "cell_type": "code",
   "execution_count": 77,
   "metadata": {},
   "outputs": [],
   "source": [
    "from Tools.tools import rec\n",
    "from Tools.tools import collection"
   ]
  },
  {
   "cell_type": "code",
   "execution_count": 86,
   "metadata": {
    "scrolled": true
   },
   "outputs": [
    {
     "name": "stdout",
     "output_type": "stream",
     "text": [
      "Attention, l'enregistrement commence dans :\n",
      "5\n",
      "4\n",
      "3\n",
      "2\n",
      "1\n",
      "0\n",
      "Prononcer votre Digit : \n",
      "------------------\n",
      "Digit :  1.0\n",
      "------------------\n"
     ]
    }
   ],
   "source": [
    "rec(scaler, XG)"
   ]
  },
  {
   "cell_type": "code",
   "execution_count": null,
   "metadata": {},
   "outputs": [],
   "source": [
    "from joblib import dump, load\n",
    "dump(knn, 'model')"
   ]
  }
 ],
 "metadata": {
  "kernelspec": {
   "display_name": "Python 3",
   "language": "python",
   "name": "python3"
  },
  "language_info": {
   "codemirror_mode": {
    "name": "ipython",
    "version": 3
   },
   "file_extension": ".py",
   "mimetype": "text/x-python",
   "name": "python",
   "nbconvert_exporter": "python",
   "pygments_lexer": "ipython3",
   "version": "3.8.3"
  }
 },
 "nbformat": 4,
 "nbformat_minor": 5
}
